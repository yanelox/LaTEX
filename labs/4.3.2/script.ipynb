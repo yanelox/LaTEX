{
 "cells": [
  {
   "cell_type": "code",
   "execution_count": 1,
   "metadata": {},
   "outputs": [
    {
     "name": "stderr",
     "output_type": "stream",
     "text": [
      "/tmp/ipykernel_55118/3925916254.py:8: DeprecationWarning: `set_matplotlib_formats` is deprecated since IPython 7.23, directly use `matplotlib_inline.backend_inline.set_matplotlib_formats()`\n",
      "  set_matplotlib_formats ('png')\n"
     ]
    }
   ],
   "source": [
    "import numpy as np\n",
    "import pandas as pd\n",
    "%matplotlib inline\n",
    "import matplotlib.pyplot as plt\n",
    "from IPython.display import set_matplotlib_formats\n",
    "import matplotlib.ticker\n",
    " \n",
    "set_matplotlib_formats ('png')\n",
    "\n",
    "def funcForFormatter (x, pos):\n",
    "    if round(x) == x:\n",
    "        return f\"{round(x)}\"\n",
    "    \n",
    "    return \"\"\n",
    "\n",
    "def my_plot (x, y, xerr = 0, yerr = 0, title=\"\", xlabel=\"\", ylabel=\"\", number=1, x_isint=False):\n",
    "    \n",
    "    x = np.array (x)\n",
    "    y = np.array (y)\n",
    "\n",
    "    k, s = np.polyfit (x, y, deg=1, cov=True)\n",
    "\n",
    "    plt.figure()\n",
    "\n",
    "    fig, ax1 = plt.subplots(figsize=(16, 16), dpi=100)\n",
    "\n",
    "    ax1.set_title (title)\n",
    "\n",
    "    ax1.set_ylabel (ylabel) \n",
    "    ax1.set_xlabel (xlabel)\n",
    "\n",
    "    # ax1.scatter (x1, y1, marker=\".\", s = 100)\n",
    "\n",
    "    if x_isint:\n",
    "        formatter = matplotlib.ticker.FuncFormatter(funcForFormatter)\n",
    "\n",
    "        ax1.xaxis.set_major_formatter (formatter)\n",
    "\n",
    "    plt.errorbar (x, y, yerr=yerr, xerr=xerr, fmt='o-', ecolor='red', ls='none')\n",
    "\n",
    "    ax1.plot (x, np.poly1d (k)(x))\n",
    "\n",
    "    plt.savefig(f\"./picturies/graph{number}.png\", dpi=100)\n",
    "    plt.grid()\n",
    "    plt.show()\n",
    "\n",
    "    return k, s"
   ]
  },
  {
   "cell_type": "code",
   "execution_count": 2,
   "metadata": {},
   "outputs": [],
   "source": [
    "f = 30 #см"
   ]
  },
  {
   "cell_type": "code",
   "execution_count": 4,
   "metadata": {},
   "outputs": [],
   "source": [
    "nu1 = 1 #MГц\n",
    "nu2 = 2\n",
    "nu3 = 3\n",
    "nu4 = 3.5"
   ]
  },
  {
   "cell_type": "markdown",
   "metadata": {},
   "source": [
    "Xm - в делениях"
   ]
  },
  {
   "cell_type": "code",
   "execution_count": 5,
   "metadata": {},
   "outputs": [
    {
     "data": {
      "text/plain": [
       "[8, 77, 48]"
      ]
     },
     "execution_count": 5,
     "metadata": {},
     "output_type": "execute_result"
    }
   ],
   "source": [
    "x1 = list (map (int, input().split()))\n",
    "x1"
   ]
  },
  {
   "cell_type": "code",
   "execution_count": 6,
   "metadata": {},
   "outputs": [
    {
     "data": {
      "text/plain": [
       "[44, 83, 4]"
      ]
     },
     "execution_count": 6,
     "metadata": {},
     "output_type": "execute_result"
    }
   ],
   "source": [
    "x2 = list (map (int, input().split()))\n",
    "x2"
   ]
  },
  {
   "cell_type": "code",
   "execution_count": 7,
   "metadata": {},
   "outputs": [
    {
     "data": {
      "text/plain": [
       "[72, 80, 79]"
      ]
     },
     "execution_count": 7,
     "metadata": {},
     "output_type": "execute_result"
    }
   ],
   "source": [
    "x3 = list (map (int, input().split()))\n",
    "x3"
   ]
  },
  {
   "cell_type": "code",
   "execution_count": 8,
   "metadata": {},
   "outputs": [
    {
     "data": {
      "text/plain": [
       "[84, 74, 63]"
      ]
     },
     "execution_count": 8,
     "metadata": {},
     "output_type": "execute_result"
    }
   ],
   "source": [
    "x4 = list (map (int, input().split()))\n",
    "x4"
   ]
  },
  {
   "cell_type": "markdown",
   "metadata": {},
   "source": [
    "Подгон, т.к. есть переход через 0"
   ]
  },
  {
   "cell_type": "code",
   "execution_count": 9,
   "metadata": {},
   "outputs": [],
   "source": [
    "x1[0] += 100\n",
    "x2[0] += 100\n",
    "x3[0] += 200\n",
    "x3[1] += 100\n",
    "x4[0] += 200\n",
    "x4[1] += 100"
   ]
  },
  {
   "cell_type": "code",
   "execution_count": 10,
   "metadata": {},
   "outputs": [],
   "source": [
    "x1 = np.array (x1)\n",
    "x2 = np.array (x2)\n",
    "x3 = np.array (x3)\n",
    "x4 = np.array (x4)"
   ]
  },
  {
   "cell_type": "code",
   "execution_count": 11,
   "metadata": {},
   "outputs": [
    {
     "name": "stdout",
     "output_type": "stream",
     "text": [
      "[108  77  48] [144  83   4] [272 180  79] [284 174  63]\n"
     ]
    }
   ],
   "source": [
    "print (x1, x2, x3, x4)"
   ]
  },
  {
   "cell_type": "markdown",
   "metadata": {},
   "source": [
    "Конец подгона"
   ]
  },
  {
   "cell_type": "code",
   "execution_count": 12,
   "metadata": {},
   "outputs": [],
   "source": [
    "lm = 640\n",
    "d_lm = 20 # в нм"
   ]
  },
  {
   "cell_type": "code",
   "execution_count": null,
   "metadata": {},
   "outputs": [],
   "source": [
    "k1, s1 = my_plot (x=[-1, 0, 1], y=x1 * 4, yerr=4, number=1, title=\"Зависимость x_m от m при частоте 1Мгц\", xlabel=\"m\", ylabel=\"x_m, мкм\", x_isint=True)\n",
    "k2, s2 = my_plot (x=[-1, 0, 1], y=x2 * 4, yerr=4, number=2, title=\"Зависимость x_m от m при частоте 2Мгц\", xlabel=\"m\", ylabel=\"x_m, мкм\", x_isint=True)\n",
    "k3, s3 = my_plot (x=[-1, 0, 1], y=x3 * 4, yerr=4, number=3, title=\"Зависимость x_m от m при частоте 3Мгц\", xlabel=\"m\", ylabel=\"x_m, мкм\", x_isint=True)\n",
    "k4, s4 = my_plot (x=[-1, 0, 1], y=x4 * 4, yerr=4, number=4, title=\"Зависимость x_m от m при частоте 3.5Мгц\", xlabel=\"m\", ylabel=\"x_m, мкм\", x_isint=True)"
   ]
  },
  {
   "cell_type": "code",
   "execution_count": 14,
   "metadata": {},
   "outputs": [
    {
     "name": "stdout",
     "output_type": "stream",
     "text": [
      "[-120.          310.66666667] [-280.  308.] [-386.  708.] [-442.          694.66666667]\n"
     ]
    }
   ],
   "source": [
    "print (k1, k2, k3, k4)"
   ]
  },
  {
   "cell_type": "code",
   "execution_count": 17,
   "metadata": {},
   "outputs": [
    {
     "name": "stdout",
     "output_type": "stream",
     "text": [
      "53.33333333333058 43.20000000000027 21.60000000000064 26.666666666673642\n"
     ]
    }
   ],
   "source": [
    "d_k1 = s1[0][0] * 10\n",
    "d_k2 = s2[0][0] / 10\n",
    "d_k3 = s3[0][0] / 5\n",
    "d_k4 = s4[0][0] * 20\n",
    "\n",
    "print (d_k1, d_k2, d_k3, d_k4)"
   ]
  },
  {
   "cell_type": "code",
   "execution_count": 24,
   "metadata": {},
   "outputs": [
    {
     "name": "stdout",
     "output_type": "stream",
     "text": [
      "120.0\n",
      "280.0\n",
      "386.00000000000006\n",
      "442.0\n"
     ]
    }
   ],
   "source": [
    "lm_m = [0, 0, 0, 0]\n",
    "\n",
    "lm_m[0] = abs(k1[0])\n",
    "lm_m[1] = abs(k2[0])\n",
    "lm_m[2] = abs(k3[0])\n",
    "lm_m[3] = abs(k4[0])\n",
    "\n",
    "lm_m = np.array (lm_m)\n",
    "\n",
    "for i in lm_m:\n",
    "    print (i)\n",
    " # в мкм"
   ]
  },
  {
   "cell_type": "code",
   "execution_count": 30,
   "metadata": {},
   "outputs": [
    {
     "name": "stdout",
     "output_type": "stream",
     "text": [
      "[1600.          685.71428571  497.40932642  434.38914027] [53.33333333 43.2        21.6        26.66666667]\n"
     ]
    }
   ],
   "source": [
    "L = f * lm / (lm_m / 10 ** 4) / 10 ** 3\n",
    "d_L = np.array ([d_k1, d_k2, d_k3, d_k4])\n",
    "print (L, d_L) #мкм"
   ]
  },
  {
   "cell_type": "code",
   "execution_count": 31,
   "metadata": {},
   "outputs": [
    {
     "name": "stdout",
     "output_type": "stream",
     "text": [
      "[1600.         1371.42857143 1492.22797927 1520.36199095] [53.33333333 86.4        64.8        93.33333333]\n"
     ]
    }
   ],
   "source": [
    "v = L * [1, 2, 3, 3.5]\n",
    "d_v = d_L * [1, 2, 3, 3.5]\n",
    "print (v, d_v) # в м/с"
   ]
  },
  {
   "cell_type": "code",
   "execution_count": 32,
   "metadata": {},
   "outputs": [],
   "source": [
    "T = np.array([6, 7.2]) #10 дел - 1 мм\n",
    "f = np.array([1.2, 1.07]) #МГц"
   ]
  },
  {
   "cell_type": "code",
   "execution_count": 37,
   "metadata": {},
   "outputs": [
    {
     "name": "stdout",
     "output_type": "stream",
     "text": [
      "[1200. 1440.] [20. 20.]\n"
     ]
    }
   ],
   "source": [
    "L1 = 2 * T / 10 * 10 ** 3\n",
    "d_L1 = 2 * np.array ([0.1, 0.1]) / 10 * 10 ** 3\n",
    "print (L1, d_L1) #в мкм"
   ]
  },
  {
   "cell_type": "code",
   "execution_count": 38,
   "metadata": {},
   "outputs": [
    {
     "name": "stdout",
     "output_type": "stream",
     "text": [
      "[1440.  1540.8] [24.  21.4]\n"
     ]
    }
   ],
   "source": [
    "v1 = L1 * f\n",
    "d_v1 = d_L1 * f\n",
    "print (v1, d_v1)"
   ]
  },
  {
   "cell_type": "code",
   "execution_count": null,
   "metadata": {},
   "outputs": [],
   "source": []
  }
 ],
 "metadata": {
  "interpreter": {
   "hash": "31f2aee4e71d21fbe5cf8b01ff0e069b9275f58929596ceb00d14d90e3e16cd6"
  },
  "kernelspec": {
   "display_name": "Python 3.8.10 64-bit",
   "language": "python",
   "name": "python3"
  },
  "language_info": {
   "codemirror_mode": {
    "name": "ipython",
    "version": 3
   },
   "file_extension": ".py",
   "mimetype": "text/x-python",
   "name": "python",
   "nbconvert_exporter": "python",
   "pygments_lexer": "ipython3",
   "version": "3.8.10"
  },
  "orig_nbformat": 4
 },
 "nbformat": 4,
 "nbformat_minor": 2
}
