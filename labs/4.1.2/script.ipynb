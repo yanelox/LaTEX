{
 "cells": [
  {
   "cell_type": "code",
   "execution_count": 1,
   "metadata": {},
   "outputs": [
    {
     "name": "stderr",
     "output_type": "stream",
     "text": [
      "/tmp/ipykernel_4574/3925916254.py:8: DeprecationWarning: `set_matplotlib_formats` is deprecated since IPython 7.23, directly use `matplotlib_inline.backend_inline.set_matplotlib_formats()`\n",
      "  set_matplotlib_formats ('png')\n"
     ]
    }
   ],
   "source": [
    "import numpy as np\n",
    "import pandas as pd\n",
    "%matplotlib inline\n",
    "import matplotlib.pyplot as plt\n",
    "from IPython.display import set_matplotlib_formats\n",
    "import matplotlib.ticker\n",
    " \n",
    "set_matplotlib_formats ('png')\n",
    "\n",
    "def funcForFormatter (x, pos):\n",
    "    if round(x) == x:\n",
    "        return f\"{round(x)}\"\n",
    "    \n",
    "    return \"\"\n",
    "\n",
    "def my_plot (x, y, xerr = 0, yerr = 0, title=\"\", xlabel=\"\", ylabel=\"\", number=1, x_isint=False):\n",
    "    \n",
    "    x = np.array (x)\n",
    "    y = np.array (y)\n",
    "\n",
    "    k, s = np.polyfit (x, y, deg=1, cov=True)\n",
    "\n",
    "    plt.figure()\n",
    "\n",
    "    fig, ax1 = plt.subplots(figsize=(16, 16), dpi=100)\n",
    "\n",
    "    ax1.set_title (title)\n",
    "\n",
    "    ax1.set_ylabel (ylabel) \n",
    "    ax1.set_xlabel (xlabel)\n",
    "\n",
    "    # ax1.scatter (x1, y1, marker=\".\", s = 100)\n",
    "\n",
    "    if x_isint:\n",
    "        formatter = matplotlib.ticker.FuncFormatter(funcForFormatter)\n",
    "\n",
    "        ax1.xaxis.set_major_formatter (formatter)\n",
    "\n",
    "    plt.errorbar (x, y, yerr=yerr, xerr=xerr, fmt='o-', ecolor='red', ls='none')\n",
    "\n",
    "    ax1.plot (x, np.poly1d (k)(x))\n",
    "\n",
    "    plt.savefig(f\"./picturies/graph{number}.png\", dpi=100)\n",
    "    plt.grid()\n",
    "    plt.show()\n",
    "\n",
    "    return k, s"
   ]
  },
  {
   "cell_type": "markdown",
   "metadata": {},
   "source": [
    "I"
   ]
  },
  {
   "cell_type": "markdown",
   "metadata": {},
   "source": [
    "II"
   ]
  },
  {
   "cell_type": "code",
   "execution_count": 2,
   "metadata": {},
   "outputs": [
    {
     "data": {
      "text/plain": [
       "-1.1333333333333333"
      ]
     },
     "execution_count": 2,
     "metadata": {},
     "output_type": "execute_result"
    }
   ],
   "source": [
    "f1 = 8.5 #см\n",
    "f2 = 7.5\n",
    "N_f = -f1 / f2\n",
    "N_f"
   ]
  },
  {
   "cell_type": "code",
   "execution_count": 10,
   "metadata": {},
   "outputs": [
    {
     "data": {
      "text/plain": [
       "-0.10076252487781896"
      ]
     },
     "execution_count": 10,
     "metadata": {},
     "output_type": "execute_result"
    }
   ],
   "source": [
    "s_N = N_f * np.sqrt ((0.5 / 7.5) ** 2 + (0.5 / 8.5) ** 2)\n",
    "s_N"
   ]
  },
  {
   "cell_type": "code",
   "execution_count": 3,
   "metadata": {},
   "outputs": [
    {
     "data": {
      "text/plain": [
       "-1.5454545454545454"
      ]
     },
     "execution_count": 3,
     "metadata": {},
     "output_type": "execute_result"
    }
   ],
   "source": [
    "h1 = 11 # дел\n",
    "h2 = 17 \n",
    "N_h = -h2 / h1\n",
    "N_h"
   ]
  },
  {
   "cell_type": "markdown",
   "metadata": {},
   "source": [
    "IV"
   ]
  },
  {
   "cell_type": "code",
   "execution_count": 4,
   "metadata": {},
   "outputs": [
    {
     "data": {
      "text/plain": [
       "-4.545454545454546"
      ]
     },
     "execution_count": 4,
     "metadata": {},
     "output_type": "execute_result"
    }
   ],
   "source": [
    "h2_4 = 50\n",
    "N_h4 = - h2_4 / h1\n",
    "N_h4"
   ]
  },
  {
   "cell_type": "code",
   "execution_count": 5,
   "metadata": {},
   "outputs": [
    {
     "data": {
      "text/plain": [
       "6.888888888888889"
      ]
     },
     "execution_count": 5,
     "metadata": {},
     "output_type": "execute_result"
    }
   ],
   "source": [
    "f4 = 31\n",
    "f5 = -4.5\n",
    "N_f4 = - f4 / f5\n",
    "N_f4"
   ]
  },
  {
   "cell_type": "markdown",
   "metadata": {},
   "source": [
    "V"
   ]
  },
  {
   "cell_type": "code",
   "execution_count": 7,
   "metadata": {},
   "outputs": [
    {
     "name": "stdout",
     "output_type": "stream",
     "text": [
      "1.1335784048754634\n"
     ]
    }
   ],
   "source": [
    "d = 12.75\n",
    "s_d = d * np.sqrt ((0.5 / 7.5) ** 2 + (0.5 / 8.5) ** 2)\n",
    "print (s_d)"
   ]
  },
  {
   "cell_type": "code",
   "execution_count": 8,
   "metadata": {},
   "outputs": [],
   "source": [
    "f3 = 16"
   ]
  },
  {
   "cell_type": "code",
   "execution_count": 9,
   "metadata": {},
   "outputs": [
    {
     "name": "stdout",
     "output_type": "stream",
     "text": [
      "5.0 4.971590909090909\n"
     ]
    }
   ],
   "source": [
    "N_teor = d * 25 / (7.5 * 8.5)\n",
    "N_prac = 35 * 25 / (11 * f3)\n",
    "print (N_teor, N_prac)"
   ]
  },
  {
   "cell_type": "code",
   "execution_count": null,
   "metadata": {},
   "outputs": [],
   "source": []
  }
 ],
 "metadata": {
  "interpreter": {
   "hash": "31f2aee4e71d21fbe5cf8b01ff0e069b9275f58929596ceb00d14d90e3e16cd6"
  },
  "kernelspec": {
   "display_name": "Python 3.8.10 64-bit",
   "language": "python",
   "name": "python3"
  },
  "language_info": {
   "codemirror_mode": {
    "name": "ipython",
    "version": 3
   },
   "file_extension": ".py",
   "mimetype": "text/x-python",
   "name": "python",
   "nbconvert_exporter": "python",
   "pygments_lexer": "ipython3",
   "version": "3.8.10"
  },
  "orig_nbformat": 4
 },
 "nbformat": 4,
 "nbformat_minor": 2
}
