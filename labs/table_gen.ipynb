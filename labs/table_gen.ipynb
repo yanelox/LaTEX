{
  "cells": [
    {
      "cell_type": "code",
      "execution_count": 6,
      "metadata": {
        "colab": {
          "base_uri": "https://localhost:8080/"
        },
        "id": "KG88iNNdGhlz",
        "outputId": "09187bfb-bf3a-47b1-9988-5b22be6fa19b"
      },
      "outputs": [
        {
          "name": "stdout",
          "output_type": "stream",
          "text": [
            "\\hline\n",
            "\n"
          ]
        }
      ],
      "source": [
        "no_parse_data = input().split(' ')\n",
        "data = [i_stolb.split() for i_stolb in no_parse_data]\n",
        "# print (data)\n",
        "\n",
        "output = \"\\hline\\n\"\n",
        "for i_str in range (len (data[0])):\n",
        "    for i_stolb in range (len (data)):\n",
        "        output += data[i_stolb][i_str] + \" & \"\n",
        "    output = output[0:-2] + \"\\\\\\\\ \\hline\\n\"\n",
        "\n",
        "print (output)"
      ]
    },
    {
      "cell_type": "code",
      "execution_count": null,
      "metadata": {},
      "outputs": [],
      "source": []
    }
  ],
  "metadata": {
    "colab": {
      "collapsed_sections": [],
      "name": "table_gen.ipynb",
      "provenance": []
    },
    "interpreter": {
      "hash": "916dbcbb3f70747c44a77c7bcd40155683ae19c65e1c03b4aa3499c5328201f1"
    },
    "kernelspec": {
      "display_name": "Python 3.8.10 64-bit",
      "name": "python3"
    },
    "language_info": {
      "codemirror_mode": {
        "name": "ipython",
        "version": 3
      },
      "file_extension": ".py",
      "mimetype": "text/x-python",
      "name": "python",
      "nbconvert_exporter": "python",
      "pygments_lexer": "ipython3",
      "version": "3.8.10"
    }
  },
  "nbformat": 4,
  "nbformat_minor": 0
}
